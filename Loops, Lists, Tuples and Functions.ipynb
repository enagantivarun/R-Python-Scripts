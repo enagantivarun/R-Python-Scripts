{
 "cells": [
  {
   "cell_type": "code",
   "execution_count": 9,
   "metadata": {},
   "outputs": [
    {
     "name": "stdout",
     "output_type": "stream",
     "text": [
      "1 5\n",
      "Number in the list is 1\n",
      "Number in the list is 2\n",
      "Number in the list is 3\n",
      "Number in the list is 4\n",
      "Number in the list is 5\n"
     ]
    }
   ],
   "source": [
    "# List are data structures which hold data of same type in the form of sequence\n",
    "mylist =[1,2,3,4,5]\n",
    "\n",
    "# Members of List can be accessed using index number, index number starts from 0 and ends at length-1\n",
    "print(mylist[0],mylist[4])\n",
    "\n",
    "# For loop which is used to read each number in the list and printed\n",
    "for number in mylist:\n",
    "    print(\"Number in the list is\", number)"
   ]
  },
  {
   "cell_type": "code",
   "execution_count": 10,
   "metadata": {},
   "outputs": [
    {
     "name": "stdout",
     "output_type": "stream",
     "text": [
      "varun wisconsin\n",
      "Item in mytuple is varun\n",
      "Item in mytuple is 25\n",
      "Item in mytuple is madison\n",
      "Item in mytuple is wisconsin\n"
     ]
    }
   ],
   "source": [
    "# Tuple is a data structure which holds data of multiple type and they are immutable (once declared cannot be changed again)\n",
    "mytuple=[\"varun\",25,\"madison\",\"wisconsin\"]\n",
    "\n",
    "# Members of Tuple can be accessed using index number\n",
    "print(mytuple[0],mytuple[3])\n",
    "\n",
    "for item in mytuple:\n",
    "    print(\"Item in mytuple is\", item)"
   ]
  },
  {
   "cell_type": "code",
   "execution_count": 55,
   "metadata": {
    "collapsed": true
   },
   "outputs": [],
   "source": [
    "# Basic Functions implementing Decision Making\n",
    "\n",
    "def printcolorname (room):\n",
    "    print(\"This function prints the color of a room in a house\")\n",
    "    if(room==\"Living\"):\n",
    "        print(\"Violet is the color for:\", room)\n",
    "    elif(room==\"Bedroom\"):\n",
    "        print(\"Blue is the color for:\", room)\n",
    "    elif(room==\"Kitchen\"):\n",
    "        print(\"Cream is the color for:\", room)\n",
    "    else:\n",
    "        print(\"please enter a valid room name, Living, Bedroom, Kitchen\")\n",
    "    return;\n",
    "    "
   ]
  },
  {
   "cell_type": "code",
   "execution_count": 56,
   "metadata": {},
   "outputs": [
    {
     "name": "stdout",
     "output_type": "stream",
     "text": [
      "This function prints the color of a room in a house\n",
      "Violet is the color for: Living\n",
      "This function prints the color of a room in a house\n",
      "Blue is the color for: Bedroom\n",
      "This function prints the color of a room in a house\n",
      "Cream is the color for: Kitchen\n",
      "This function prints the color of a room in a house\n",
      "please enter a valid room name, Living, Bedroom, Kitchen\n"
     ]
    }
   ],
   "source": [
    "printcolorname(\"Living\")\n",
    "printcolorname(\"Bedroom\")\n",
    "printcolorname(\"Kitchen\")\n",
    "printcolorname(\"Washroom\")"
   ]
  },
  {
   "cell_type": "code",
   "execution_count": 72,
   "metadata": {
    "collapsed": true
   },
   "outputs": [],
   "source": [
    "#Function with if and elif's \n",
    "def identifypersongrade(age):\n",
    "    print(\"This Function prints grade of the a person based on grade \")\n",
    "    if(age <=18):\n",
    "        print(\"Person is High School\")\n",
    "    elif(age<=22):\n",
    "        print(\"Person is taking under graduate courses\")\n",
    "    elif(age <=25):\n",
    "        print(\"Person is taking masters course\")\n",
    "    else:\n",
    "        print(\"Person might be employeed or looking for new opportunity\")\n",
    "        \n",
    "    return;"
   ]
  },
  {
   "cell_type": "code",
   "execution_count": 79,
   "metadata": {},
   "outputs": [
    {
     "name": "stdout",
     "output_type": "stream",
     "text": [
      "This Function prints grade of the a person based on grade \n",
      "Person is taking masters course\n"
     ]
    }
   ],
   "source": [
    "identifypersongrade(24)"
   ]
  },
  {
   "cell_type": "code",
   "execution_count": 120,
   "metadata": {
    "collapsed": true
   },
   "outputs": [],
   "source": [
    "#Files I/O operations and Exception Handling\n",
    "def identifyfile(filename):\n",
    "    try:\n",
    "        filename=open(filename,'a+')\n",
    "        print (\"filename:\", filename.name)\n",
    "        filename=filename.write(\"\\n new words\")\n",
    "    except IOError:\n",
    "        print ('File Not Found')\n",
    "    else:\n",
    "        print ('file is opened')"
   ]
  },
  {
   "cell_type": "code",
   "execution_count": 129,
   "metadata": {},
   "outputs": [
    {
     "name": "stdout",
     "output_type": "stream",
     "text": [
      "filename: sample.txt\n",
      "file is opened\n"
     ]
    }
   ],
   "source": [
    "identifyfile('sample.txt')"
   ]
  },
  {
   "cell_type": "code",
   "execution_count": null,
   "metadata": {
    "collapsed": true
   },
   "outputs": [],
   "source": []
  }
 ],
 "metadata": {
  "kernelspec": {
   "display_name": "Python 3",
   "language": "python",
   "name": "python3"
  },
  "language_info": {
   "codemirror_mode": {
    "name": "ipython",
    "version": 3
   },
   "file_extension": ".py",
   "mimetype": "text/x-python",
   "name": "python",
   "nbconvert_exporter": "python",
   "pygments_lexer": "ipython3",
   "version": "3.6.3"
  }
 },
 "nbformat": 4,
 "nbformat_minor": 2
}
